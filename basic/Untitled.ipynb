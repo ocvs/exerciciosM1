{
 "cells": [
  {
   "cell_type": "code",
   "execution_count": 40,
   "metadata": {},
   "outputs": [
    {
     "name": "stdout",
     "output_type": "stream",
     "text": [
      "found  e\n"
     ]
    }
   ],
   "source": [
    "import re\n",
    "strs =  'an exemple word:cat!!123'\n",
    "match = re.search(r'\\s\\w', strs)\n",
    "\n",
    "# If-statement after search() tests if it succeeded\n",
    "if match:\n",
    "  print('found', match.group())\n",
    "else:\n",
    "  print ('did not find')"
   ]
  },
  {
   "cell_type": "code",
   "execution_count": null,
   "metadata": {},
   "outputs": [],
   "source": []
  }
 ],
 "metadata": {
  "kernelspec": {
   "display_name": "Python 3",
   "language": "python",
   "name": "python3"
  },
  "language_info": {
   "codemirror_mode": {
    "name": "ipython",
    "version": 3
   },
   "file_extension": ".py",
   "mimetype": "text/x-python",
   "name": "python",
   "nbconvert_exporter": "python",
   "pygments_lexer": "ipython3",
   "version": "3.7.1"
  }
 },
 "nbformat": 4,
 "nbformat_minor": 2
}
